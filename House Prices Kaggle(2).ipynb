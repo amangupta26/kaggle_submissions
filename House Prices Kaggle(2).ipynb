{
 "cells": [
  {
   "cell_type": "code",
   "execution_count": 81,
   "metadata": {},
   "outputs": [],
   "source": [
    "#https://www.kaggle.com/c/house-prices-advanced-regression-techniques/overview\n",
    "\n",
    "import sys\n",
    "sys.path.append('/home/ec2-user/ml/myMLLib/src')\n",
    "from myMLLib.src.utils import pandas_util\n",
    "from myMLLib.src.custom_transformers.OrderedCategoricalDataEncoder import OrderedCategoricalDataEncoder\n",
    "from myMLLib.src.custom_transformers.OneHotEncoder import OneHotEncoder\n",
    "from myMLLib.src.custom_transformers.NumericAttributeStandardizer import NumericAttributeStandardizer\n",
    "import pandas as pd"
   ]
  },
  {
   "cell_type": "code",
   "execution_count": 82,
   "metadata": {},
   "outputs": [],
   "source": [
    "def prepare_data(df):\n",
    "    # Missing data implies that house does not have lott frontage\n",
    "    df['LotFrontage'].fillna(0, inplace=True)\n",
    "    # Missing date can be assumed tthat house does not have an alley\n",
    "    df['Alley'].fillna('NA', inplace=True)\n",
    "    # Missing data can be assumed that MasVnrType does not exists\n",
    "    df['MasVnrType'].fillna('None', inplace=True)\n",
    "    # Missing data can be assumed that MasVnrArea is zero\n",
    "    df['MasVnrArea'].fillna(0, inplace=True)\n",
    "    # Missing data can be assumed that BsmtQual not exists\n",
    "    df['BsmtQual'].fillna('NA', inplace=True)\n",
    "    # Missing data can be assumed that BsmtCond not exists\n",
    "    df['BsmtCond'].fillna('NA', inplace=True)\n",
    "    # Fill one row with No if other basement features are available\n",
    "    df.loc[df.BsmtQual.notna() & df.BsmtExposure.isna(), 'BsmtExposure'] = 'No'\n",
    "    # Missing data can be assumed that BsmtExposure not exists\n",
    "    df['BsmtExposure'].fillna('NA', inplace=True)\n",
    "    df['BsmtFinType1'].fillna('NA', inplace=True)\n",
    "    df.loc[332, 'BsmtFinType2'] = 'LwQ'\n",
    "    df['BsmtFinType2'].fillna('NA', inplace=True)\n",
    "\n",
    "    df['Electrical'].fillna('SBrkr', inplace=True)\n",
    "\n",
    "    df['FireplaceQu'].fillna('NA', inplace=True)\n",
    "\n",
    "    df['GarageType'].fillna('NA', inplace=True)\n",
    "    df['GarageYrBlt'].fillna(df['GarageYrBlt'].min(), inplace=True)\n",
    "    df['GarageFinish'].fillna('NA', inplace=True)\n",
    "    df['GarageQual'].fillna('NA', inplace=True)\n",
    "    df['GarageCond'].fillna('NA', inplace=True)\n",
    "    df['PoolQC'].fillna('NA', inplace=True)\n",
    "    df['Fence'].fillna('NA', inplace=True)\n",
    "    df['MiscFeature'].fillna('NA', inplace=True)\n",
    "    df['KitchenQual'].fillna('TA', inplace=True)\n",
    "    \n",
    "    df['MSZoning'].fillna(df['MSZoning'].value_counts().index[0], inplace=True)\n",
    "    df['Utilities'].fillna(df['Utilities'].value_counts().index[0], inplace=True)\n",
    "    df['Exterior1st'].fillna(df['Exterior1st'].value_counts().index[0], inplace=True)\n",
    "    df['Exterior2nd'].fillna(df['Exterior2nd'].value_counts().index[0], inplace=True)\n",
    "    df['BsmtFinSF1'].fillna(0, inplace=True)\n",
    "    df['BsmtFinSF2'].fillna(0, inplace=True)\n",
    "    df['BsmtUnfSF'].fillna(0, inplace=True)\n",
    "    df['TotalBsmtSF'].fillna(0, inplace=True)\n",
    "    df['BsmtFullBath'].fillna(0, inplace=True)\n",
    "    df['BsmtHalfBath'].fillna(0, inplace=True)\n",
    "    df['Functional'].fillna(df['Functional'].value_counts().index[0], inplace=True)\n",
    "    df['GarageCars'].fillna(0, inplace=True)\n",
    "    df['GarageArea'].fillna(0, inplace=True)\n",
    "    df['SaleType'].fillna(df['SaleType'].value_counts().index[0], inplace=True)\n",
    "\n",
    "\n",
    "\n",
    "    # Defining six columns for basement finished type: GLQ, ALQ, BLQ, Rec, LwQ, Unf. Along with area for each\n",
    "    default_list = [0 for x in range(df.shape[0])]\n",
    "    df['GLQ'] = pd.Series(default_list.copy(),  index=df.index)\n",
    "    df['ALQ'] = pd.Series(default_list.copy(),  index=df.index)\n",
    "    df['BLQ'] = pd.Series(default_list.copy(),  index=df.index)\n",
    "    df['Rec'] = pd.Series(default_list.copy(),  index=df.index)\n",
    "    df['LwQ'] = pd.Series(default_list.copy(),  index=df.index)\n",
    "\n",
    "    for index, row in df.iterrows():\n",
    "        if row['BsmtFinType1'] != 'NA' and row['BsmtFinType1'] != 'Unf':\n",
    "            df.loc[index, row['BsmtFinType1']] = int(row['BsmtFinSF1'])\n",
    "        if row['BsmtFinType2'] != 'NA' and row['BsmtFinType2'] != 'Unf':\n",
    "            df.loc[index, row['BsmtFinType2']] += int(row['BsmtFinSF2'])\n",
    "\n",
    "    # Convert date columns into numerical attribute by setting oldest date to 0 and increase by 1 for each year/month/week/day\n",
    "    # YearBuilt, YearRemodAdd, GarageYrBlt, MoSold, YrSold\n",
    "    df['YearBuilt'] = df['YearBuilt'] - df['YearBuilt'].min()\n",
    "    df['YearRemodAdd'] = df['YearRemodAdd'] - df['YearRemodAdd'].min()\n",
    "    df['GarageYrBlt'] = (df['GarageYrBlt'] - df['GarageYrBlt'].min()).astype(int)\n",
    "    di = {1: \"January\", 2: \"February\", 3: \"March\", 4: \"April\", 5: \"May\", 6: \"June\", 7: \"July\", 8: \"August\", 9:\"September\", 10:\"October\", 11:\"November\", 12:\"December\" }\n",
    "    df['MoSold'] = df['MoSold'].map(di)\n",
    "    df['YrSold'] = df['YrSold'] - df['YrSold'].min()\n",
    "\n",
    "df = pandas_util.load_data_frame_from_csv_file('/home/ec2-user/ml/house_prices_kaggle_train.csv')\n",
    "prepare_data(df)\n",
    "test_df = pandas_util.load_data_frame_from_csv_file('/home/ec2-user/ml/house_prices_kaggle_test.csv')\n",
    "prepare_data(test_df)"
   ]
  },
  {
   "cell_type": "code",
   "execution_count": 83,
   "metadata": {},
   "outputs": [],
   "source": [
    "one_hot_encoding_columns = [\"MSSubClass\", \"MSZoning\", \"Street\", \"Alley\", \"LotShape\", \"LandContour\", \"Utilities\", \"LotConfig\",\n",
    "                            \"LandSlope\", \"Neighborhood\", \"BldgType\", \"HouseStyle\", \"RoofStyle\", \"RoofMatl\", \"ExterQual\", \"ExterCond\",\n",
    "                            \"Foundation\", \"Heating\", \"CentralAir\", \"Electrical\", \"Functional\", \"PavedDrive\", \"SaleType\", \"SaleCondition\", \"MoSold\"]\n",
    "int_encoding_columns = [\"BsmtQual\", \"BsmtCond\", \"BsmtExposure\", \"HeatingQC\", \"KitchenQual\", \"FireplaceQu\", \"PoolQC\"]\n",
    "standardize_columns = [\"LotFrontage\", \"LotArea\", \"1stFlrSF\", \"2ndFlrSF\", \"LowQualFinSF\", \"GrLivArea\", \"BsmtFullBath\", \"BsmtHalfBath\", \"FullBath\", \"HalfBath\", \"BedroomAbvGr\", \"KitchenAbvGr\", \"TotRmsAbvGrd\", \"Fireplaces\", \"GarageCars\", \"GarageArea\", \"WoodDeckSF\", \"OpenPorchSF\", \"EnclosedPorch\", \"3SsnPorch\", \"ScreenPorch\", \"PoolArea\", \"MiscVal\"]\n",
    "no_op_columns = [\"OverallQual\", \"OverallCond\"]\n",
    "delete_columns = [\"TotalBsmtSF\"]"
   ]
  },
  {
   "cell_type": "code",
   "execution_count": 84,
   "metadata": {},
   "outputs": [
    {
     "data": {
      "text/plain": [
       "{}"
      ]
     },
     "execution_count": 84,
     "metadata": {},
     "output_type": "execute_result"
    }
   ],
   "source": [
    "def get_X(df):\n",
    "    df_integer_encoded = OrderedCategoricalDataEncoder().transform(df[int_encoding_columns])\n",
    "    df_one_hot_encoded = OneHotEncoder().transform(df[one_hot_encoding_columns])\n",
    "    df_standardized = NumericAttributeStandardizer().transform(df[standardize_columns])\n",
    "    return pd.concat([df_integer_encoded, df_one_hot_encoded, df_standardized, df[no_op_columns]], axis=1)\n"
   ]
  },
  {
   "cell_type": "code",
   "execution_count": 91,
   "metadata": {},
   "outputs": [
    {
     "name": "stderr",
     "output_type": "stream",
     "text": [
      "/usr/local/lib64/python3.7/site-packages/sklearn/preprocessing/data.py:625: DataConversionWarning: Data with input dtype int64, float64 were all converted to float64 by StandardScaler.\n",
      "  return self.partial_fit(X, y)\n",
      "/usr/local/lib64/python3.7/site-packages/sklearn/base.py:462: DataConversionWarning: Data with input dtype int64, float64 were all converted to float64 by StandardScaler.\n",
      "  return self.fit(X, **fit_params).transform(X)\n",
      "/usr/local/lib64/python3.7/site-packages/sklearn/preprocessing/data.py:625: DataConversionWarning: Data with input dtype int64, float64 were all converted to float64 by StandardScaler.\n",
      "  return self.partial_fit(X, y)\n",
      "/usr/local/lib64/python3.7/site-packages/sklearn/base.py:462: DataConversionWarning: Data with input dtype int64, float64 were all converted to float64 by StandardScaler.\n",
      "  return self.fit(X, **fit_params).transform(X)\n"
     ]
    },
    {
     "data": {
      "text/plain": [
       "DecisionTreeRegressor(criterion='mse', max_depth=None, max_features=None,\n",
       "           max_leaf_nodes=None, min_impurity_decrease=0.0,\n",
       "           min_impurity_split=None, min_samples_leaf=1,\n",
       "           min_samples_split=2, min_weight_fraction_leaf=0.0,\n",
       "           presort=False, random_state=None, splitter='best')"
      ]
     },
     "execution_count": 91,
     "metadata": {},
     "output_type": "execute_result"
    }
   ],
   "source": [
    "X = get_X(df)\n",
    "y = df[['SalePrice']]\n",
    "\n",
    "X_test = get_X(test_df)\n",
    "\n",
    "\n",
    "train_columns = X.columns\n",
    "test_columns = X_test.columns\n",
    "\n",
    "default_list_test = [0 for x in range(X_test.shape[0])]\n",
    "\n",
    "for column in (set(train_columns) - set(test_columns)):\n",
    "    X_test[column] = pd.Series(default_list_test.copy(),  index=X_test.index)\n",
    "    \n",
    "default_list = [0 for x in range(X.shape[0])]\n",
    "\n",
    "for column in (set(test_columns) - set(train_columns)):\n",
    "    X[column] = pd.Series(default_list.copy(),  index=X.index)\n",
    "    \n",
    "\n",
    "from sklearn.tree import DecisionTreeRegressor\n",
    "tree_reg = DecisionTreeRegressor()\n",
    "tree_reg.fit(X, y)\n",
    "\n",
    "\n"
   ]
  },
  {
   "cell_type": "code",
   "execution_count": 92,
   "metadata": {},
   "outputs": [],
   "source": [
    "predict_list = tree_reg.predict(X_test)\n",
    "list_to_append = []\n",
    "for index in range(0, len(predict_list)):\n",
    "    list_to_append.append([test_df.iloc[index]['Id'], predict_list[index]])\n",
    "    \n",
    "pred_df = pd.DataFrame(list_to_append)"
   ]
  },
  {
   "cell_type": "code",
   "execution_count": 93,
   "metadata": {},
   "outputs": [],
   "source": [
    "pred_df.to_csv('/home/ec2-user/ml/kag_sub.csv', index=False)"
   ]
  }
 ],
 "metadata": {
  "kernelspec": {
   "display_name": "Python 3",
   "language": "python",
   "name": "python3"
  },
  "language_info": {
   "codemirror_mode": {
    "name": "ipython",
    "version": 3
   },
   "file_extension": ".py",
   "mimetype": "text/x-python",
   "name": "python",
   "nbconvert_exporter": "python",
   "pygments_lexer": "ipython3",
   "version": "3.7.2"
  }
 },
 "nbformat": 4,
 "nbformat_minor": 2
}
